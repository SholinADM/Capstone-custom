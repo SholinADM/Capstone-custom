{
 "cells": [
  {
   "cell_type": "code",
   "execution_count": null,
   "metadata": {},
   "outputs": [],
   "source": [
    "# 1. Import packages\n",
    "from ultralytics import YOLO\n",
    "import numpy as np\n",
    "import cv2\n",
    "import matplotlib.pyplot as plt\n",
    "plt.switch_backend('TkAgg')"
   ]
  },
  {
   "cell_type": "code",
   "execution_count": null,
   "metadata": {},
   "outputs": [],
   "source": [
    "# Load in the pretrained model\n",
    "model = YOLO(\"yolo11n.pt\")"
   ]
  },
  {
   "cell_type": "code",
   "execution_count": null,
   "metadata": {},
   "outputs": [],
   "source": [
    "# Custom training with custom dataset\n",
    "result = model.train(data=\"data.yaml\",epochs=1,imgsz=480,batch=8)"
   ]
  },
  {
   "cell_type": "code",
   "execution_count": null,
   "metadata": {},
   "outputs": [],
   "source": [
    "# Prediction with image file\n",
    "filepath = r\"C:\\Users\\suhaimi\\Documents\\Deep_learning\\datasets\\test\\images\\images50-1-_jpg.rf.75b538610dba3fc9d6569d40ff18753a.jpg\"\n",
    "result = model.predict(source=filepath)"
   ]
  },
  {
   "cell_type": "code",
   "execution_count": null,
   "metadata": {},
   "outputs": [],
   "source": [
    "# Display prediction result\n",
    "img = result[0].plot()\n",
    "print(img.shape)\n",
    "img = cv2.cvtColor(img,code=cv2.COLOR_RGB2BGR)\n",
    "plt.imshow(img)\n",
    "plt.xticks([])\n",
    "plt.yticks([])\n",
    "plt.grid(False)\n",
    "plt.show()\n",
    "\n",
    "#print(type(img))"
   ]
  },
  {
   "cell_type": "code",
   "execution_count": null,
   "metadata": {},
   "outputs": [],
   "source": [
    "#open webcam\n",
    "# 2. Prediction with webcam stream\n",
    "result = model.predict(source=0,show=True,stream=True)\n",
    "cam = cv2.VideoCapture(0)\n",
    "try:\n",
    "    for i in result:\n",
    "        print(i.summary())\n",
    "        \n",
    "    cv2.destroyAllWindows()\n",
    "    result.close()\n",
    "    print('closed')\n",
    "except:\n",
    "    print('canceled')\n",
    "    cv2.destroyAllWindows()\n",
    "    cam.release()"
   ]
  }
 ],
 "metadata": {
  "language_info": {
   "name": "python"
  }
 },
 "nbformat": 4,
 "nbformat_minor": 2
}
